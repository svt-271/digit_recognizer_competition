{
 "cells": [
  {
   "cell_type": "markdown",
   "metadata": {},
   "source": [
    "# Kaggle competition \"Digit recognizer\". "
   ]
  },
  {
   "cell_type": "markdown",
   "metadata": {},
   "source": [
    "results: accuracy = 0.993, place in  leardebord: 274 from 1894"
   ]
  },
  {
   "cell_type": "markdown",
   "metadata": {},
   "source": [
    "accuracy(y_pred,y_test) is not presented it this code as kaggle competition does not provide y_test,\n",
    "during the process of model bilding train dataset was split for train and test purposes "
   ]
  },
  {
   "cell_type": "code",
   "execution_count": 1,
   "metadata": {
    "_cell_guid": "b1076dfc-b9ad-4769-8c92-a6c4dae69d19",
    "_uuid": "8f2839f25d086af736a60e9eeb907d3b93b6e0e5",
    "execution": {
     "iopub.execute_input": "2022-05-16T21:08:39.295166Z",
     "iopub.status.busy": "2022-05-16T21:08:39.294808Z",
     "iopub.status.idle": "2022-05-16T21:08:39.326539Z",
     "shell.execute_reply": "2022-05-16T21:08:39.325727Z",
     "shell.execute_reply.started": "2022-05-16T21:08:39.295081Z"
    }
   },
   "outputs": [],
   "source": [
    "# This Python 3 environment comes with many helpful analytics libraries installed\n",
    "# It is defined by the kaggle/python Docker image: https://github.com/kaggle/docker-python\n",
    "# For example, here's several helpful packages to load\n",
    "\n",
    "import numpy as np # linear algebra\n",
    "import pandas as pd # data processing, CSV file I/O (e.g. pd.read_csv)\n",
    "\n",
    "# Input data files are available in the read-only \"../input/\" directory\n",
    "# For example, running this (by clicking run or pressing Shift+Enter) will list all files under the input directory\n",
    "\n",
    "import os\n",
    "for dirname, _, filenames in os.walk('/kaggle/input'):\n",
    "    for filename in filenames:\n",
    "        print(os.path.join(dirname, filename))\n",
    "\n",
    "# You can write up to 20GB to the current directory (/kaggle/working/) that gets preserved as output when you create a version using \"Save & Run All\" \n",
    "# You can also write temporary files to /kaggle/temp/, but they won't be saved outside of the current session"
   ]
  },
  {
   "cell_type": "code",
   "execution_count": 2,
   "metadata": {},
   "outputs": [
    {
     "name": "stdout",
     "output_type": "stream",
     "text": [
      "Requirement already satisfied: tensorflow in c:\\users\\dell\\anaconda3\\lib\\site-packages (2.9.1)\n",
      "Requirement already satisfied: keras<2.10.0,>=2.9.0rc0 in c:\\users\\dell\\anaconda3\\lib\\site-packages (from tensorflow) (2.9.0)\n",
      "Requirement already satisfied: numpy>=1.20 in c:\\users\\dell\\anaconda3\\lib\\site-packages (from tensorflow) (1.22.4)\n",
      "Requirement already satisfied: flatbuffers<2,>=1.12 in c:\\users\\dell\\anaconda3\\lib\\site-packages (from tensorflow) (1.12)\n",
      "Requirement already satisfied: tensorflow-io-gcs-filesystem>=0.23.1 in c:\\users\\dell\\anaconda3\\lib\\site-packages (from tensorflow) (0.26.0)\n",
      "Requirement already satisfied: grpcio<2.0,>=1.24.3 in c:\\users\\dell\\anaconda3\\lib\\site-packages (from tensorflow) (1.46.3)\n",
      "Requirement already satisfied: h5py>=2.9.0 in c:\\users\\dell\\anaconda3\\lib\\site-packages (from tensorflow) (2.10.0)\n",
      "Requirement already satisfied: gast<=0.4.0,>=0.2.1 in c:\\users\\dell\\anaconda3\\lib\\site-packages (from tensorflow) (0.4.0)\n",
      "Requirement already satisfied: protobuf<3.20,>=3.9.2 in c:\\users\\dell\\anaconda3\\lib\\site-packages (from tensorflow) (3.19.4)\n",
      "Requirement already satisfied: typing-extensions>=3.6.6 in c:\\users\\dell\\anaconda3\\lib\\site-packages (from tensorflow) (3.7.4.3)\n",
      "Requirement already satisfied: six>=1.12.0 in c:\\users\\dell\\anaconda3\\lib\\site-packages (from tensorflow) (1.15.0)\n",
      "Requirement already satisfied: setuptools in c:\\users\\dell\\anaconda3\\lib\\site-packages (from tensorflow) (50.3.1.post20201107)\n",
      "Requirement already satisfied: keras-preprocessing>=1.1.1 in c:\\users\\dell\\anaconda3\\lib\\site-packages (from tensorflow) (1.1.2)\n",
      "Requirement already satisfied: libclang>=13.0.0 in c:\\users\\dell\\anaconda3\\lib\\site-packages (from tensorflow) (14.0.1)\n",
      "Requirement already satisfied: packaging in c:\\users\\dell\\anaconda3\\lib\\site-packages (from tensorflow) (20.4)\n",
      "Requirement already satisfied: termcolor>=1.1.0 in c:\\users\\dell\\anaconda3\\lib\\site-packages (from tensorflow) (1.1.0)\n",
      "Requirement already satisfied: google-pasta>=0.1.1 in c:\\users\\dell\\anaconda3\\lib\\site-packages (from tensorflow) (0.2.0)\n",
      "Requirement already satisfied: wrapt>=1.11.0 in c:\\users\\dell\\anaconda3\\lib\\site-packages (from tensorflow) (1.11.2)\n",
      "Requirement already satisfied: tensorboard<2.10,>=2.9 in c:\\users\\dell\\anaconda3\\lib\\site-packages (from tensorflow) (2.9.0)\n",
      "Requirement already satisfied: opt-einsum>=2.3.2 in c:\\users\\dell\\anaconda3\\lib\\site-packages (from tensorflow) (3.3.0)\n",
      "Requirement already satisfied: absl-py>=1.0.0 in c:\\users\\dell\\anaconda3\\lib\\site-packages (from tensorflow) (1.0.0)\n",
      "Requirement already satisfied: tensorflow-estimator<2.10.0,>=2.9.0rc0 in c:\\users\\dell\\anaconda3\\lib\\site-packages (from tensorflow) (2.9.0)\n",
      "Requirement already satisfied: astunparse>=1.6.0 in c:\\users\\dell\\anaconda3\\lib\\site-packages (from tensorflow) (1.6.3)\n",
      "Requirement already satisfied: pyparsing>=2.0.2 in c:\\users\\dell\\anaconda3\\lib\\site-packages (from packaging->tensorflow) (2.4.7)\n",
      "Requirement already satisfied: wheel>=0.26 in c:\\users\\dell\\anaconda3\\lib\\site-packages (from tensorboard<2.10,>=2.9->tensorflow) (0.35.1)\n",
      "Requirement already satisfied: tensorboard-data-server<0.7.0,>=0.6.0 in c:\\users\\dell\\anaconda3\\lib\\site-packages (from tensorboard<2.10,>=2.9->tensorflow) (0.6.1)\n",
      "Requirement already satisfied: markdown>=2.6.8 in c:\\users\\dell\\anaconda3\\lib\\site-packages (from tensorboard<2.10,>=2.9->tensorflow) (3.3.7)\n",
      "Requirement already satisfied: google-auth<3,>=1.6.3 in c:\\users\\dell\\anaconda3\\lib\\site-packages (from tensorboard<2.10,>=2.9->tensorflow) (2.6.6)\n",
      "Requirement already satisfied: werkzeug>=1.0.1 in c:\\users\\dell\\anaconda3\\lib\\site-packages (from tensorboard<2.10,>=2.9->tensorflow) (1.0.1)\n",
      "Requirement already satisfied: tensorboard-plugin-wit>=1.6.0 in c:\\users\\dell\\anaconda3\\lib\\site-packages (from tensorboard<2.10,>=2.9->tensorflow) (1.8.1)\n",
      "Requirement already satisfied: google-auth-oauthlib<0.5,>=0.4.1 in c:\\users\\dell\\anaconda3\\lib\\site-packages (from tensorboard<2.10,>=2.9->tensorflow) (0.4.6)\n",
      "Requirement already satisfied: requests<3,>=2.21.0 in c:\\users\\dell\\anaconda3\\lib\\site-packages (from tensorboard<2.10,>=2.9->tensorflow) (2.24.0)\n",
      "Requirement already satisfied: importlib-metadata>=4.4; python_version < \"3.10\" in c:\\users\\dell\\anaconda3\\lib\\site-packages (from markdown>=2.6.8->tensorboard<2.10,>=2.9->tensorflow) (4.11.4)\n",
      "Requirement already satisfied: cachetools<6.0,>=2.0.0 in c:\\users\\dell\\anaconda3\\lib\\site-packages (from google-auth<3,>=1.6.3->tensorboard<2.10,>=2.9->tensorflow) (5.2.0)\n",
      "Requirement already satisfied: pyasn1-modules>=0.2.1 in c:\\users\\dell\\anaconda3\\lib\\site-packages (from google-auth<3,>=1.6.3->tensorboard<2.10,>=2.9->tensorflow) (0.2.8)\n",
      "Requirement already satisfied: rsa<5,>=3.1.4; python_version >= \"3.6\" in c:\\users\\dell\\anaconda3\\lib\\site-packages (from google-auth<3,>=1.6.3->tensorboard<2.10,>=2.9->tensorflow) (4.8)\n",
      "Requirement already satisfied: requests-oauthlib>=0.7.0 in c:\\users\\dell\\anaconda3\\lib\\site-packages (from google-auth-oauthlib<0.5,>=0.4.1->tensorboard<2.10,>=2.9->tensorflow) (1.3.1)\n",
      "Requirement already satisfied: idna<3,>=2.5 in c:\\users\\dell\\anaconda3\\lib\\site-packages (from requests<3,>=2.21.0->tensorboard<2.10,>=2.9->tensorflow) (2.10)\n",
      "Requirement already satisfied: urllib3!=1.25.0,!=1.25.1,<1.26,>=1.21.1 in c:\\users\\dell\\anaconda3\\lib\\site-packages (from requests<3,>=2.21.0->tensorboard<2.10,>=2.9->tensorflow) (1.25.11)\n",
      "Requirement already satisfied: certifi>=2017.4.17 in c:\\users\\dell\\anaconda3\\lib\\site-packages (from requests<3,>=2.21.0->tensorboard<2.10,>=2.9->tensorflow) (2020.6.20)\n",
      "Requirement already satisfied: chardet<4,>=3.0.2 in c:\\users\\dell\\anaconda3\\lib\\site-packages (from requests<3,>=2.21.0->tensorboard<2.10,>=2.9->tensorflow) (3.0.4)\n",
      "Requirement already satisfied: zipp>=0.5 in c:\\users\\dell\\anaconda3\\lib\\site-packages (from importlib-metadata>=4.4; python_version < \"3.10\"->markdown>=2.6.8->tensorboard<2.10,>=2.9->tensorflow) (3.4.0)\n",
      "Requirement already satisfied: pyasn1<0.5.0,>=0.4.6 in c:\\users\\dell\\anaconda3\\lib\\site-packages (from pyasn1-modules>=0.2.1->google-auth<3,>=1.6.3->tensorboard<2.10,>=2.9->tensorflow) (0.4.8)\n",
      "Requirement already satisfied: oauthlib>=3.0.0 in c:\\users\\dell\\anaconda3\\lib\\site-packages (from requests-oauthlib>=0.7.0->google-auth-oauthlib<0.5,>=0.4.1->tensorboard<2.10,>=2.9->tensorflow) (3.2.0)\n"
     ]
    }
   ],
   "source": [
    "!pip install tensorflow"
   ]
  },
  {
   "cell_type": "code",
   "execution_count": 3,
   "metadata": {},
   "outputs": [],
   "source": [
    "from sklearn.preprocessing      import OneHotEncoder\n",
    "from sklearn.preprocessing      import StandardScaler\n",
    "from sklearn.metrics            import accuracy_score\n",
    "from sklearn.model_selection    import train_test_split\n",
    "from tensorflow                 import keras\n",
    "from tensorflow.keras           import layers\n",
    "from tensorflow.keras.callbacks import EarlyStopping"
   ]
  },
  {
   "cell_type": "code",
   "execution_count": 4,
   "metadata": {
    "execution": {
     "iopub.execute_input": "2022-05-16T21:08:39.328427Z",
     "iopub.status.busy": "2022-05-16T21:08:39.328020Z",
     "iopub.status.idle": "2022-05-16T21:08:45.167422Z",
     "shell.execute_reply": "2022-05-16T21:08:45.166459Z",
     "shell.execute_reply.started": "2022-05-16T21:08:39.328397Z"
    }
   },
   "outputs": [],
   "source": [
    "train_in = pd.read_csv(\"../input/digit-recognizer/train.csv\")\n",
    "test_in  = pd.read_csv(\"../input/digit-recognizer/test.csv\")"
   ]
  },
  {
   "cell_type": "code",
   "execution_count": 5,
   "metadata": {
    "execution": {
     "iopub.execute_input": "2022-05-16T21:08:45.169116Z",
     "iopub.status.busy": "2022-05-16T21:08:45.168760Z",
     "iopub.status.idle": "2022-05-16T21:08:45.381179Z",
     "shell.execute_reply": "2022-05-16T21:08:45.380038Z",
     "shell.execute_reply.started": "2022-05-16T21:08:45.169075Z"
    }
   },
   "outputs": [],
   "source": [
    "train   = train_in.copy()\n",
    "test    = test_in.copy()"
   ]
  },
  {
   "cell_type": "code",
   "execution_count": 6,
   "metadata": {
    "execution": {
     "iopub.execute_input": "2022-05-16T21:08:45.384370Z",
     "iopub.status.busy": "2022-05-16T21:08:45.383877Z",
     "iopub.status.idle": "2022-05-16T21:08:45.406420Z",
     "shell.execute_reply": "2022-05-16T21:08:45.405505Z",
     "shell.execute_reply.started": "2022-05-16T21:08:45.384317Z"
    }
   },
   "outputs": [
    {
     "data": {
      "text/plain": [
       "0     41997\n",
       "21        1\n",
       "71        1\n",
       "64        1\n",
       "Name: pixel477, dtype: int64"
      ]
     },
     "execution_count": 6,
     "metadata": {},
     "output_type": "execute_result"
    }
   ],
   "source": [
    "train.iloc[400:430,]\n",
    "#train['pixel777'].sum()\n",
    "train['pixel477'].value_counts()"
   ]
  },
  {
   "cell_type": "code",
   "execution_count": 7,
   "metadata": {
    "execution": {
     "iopub.execute_input": "2022-05-16T21:08:45.411285Z",
     "iopub.status.busy": "2022-05-16T21:08:45.410704Z",
     "iopub.status.idle": "2022-05-16T21:08:45.420178Z",
     "shell.execute_reply": "2022-05-16T21:08:45.419485Z",
     "shell.execute_reply.started": "2022-05-16T21:08:45.411247Z"
    }
   },
   "outputs": [
    {
     "data": {
      "text/plain": [
       "((42000, 785),\n",
       " label       int64\n",
       " pixel0      int64\n",
       " pixel1      int64\n",
       " pixel2      int64\n",
       " pixel3      int64\n",
       "             ...  \n",
       " pixel779    int64\n",
       " pixel780    int64\n",
       " pixel781    int64\n",
       " pixel782    int64\n",
       " pixel783    int64\n",
       " Length: 785, dtype: object,\n",
       " Index(['label', 'pixel0', 'pixel1', 'pixel2', 'pixel3', 'pixel4', 'pixel5',\n",
       "        'pixel6', 'pixel7', 'pixel8',\n",
       "        ...\n",
       "        'pixel774', 'pixel775', 'pixel776', 'pixel777', 'pixel778', 'pixel779',\n",
       "        'pixel780', 'pixel781', 'pixel782', 'pixel783'],\n",
       "       dtype='object', length=785),\n",
       " RangeIndex(start=0, stop=42000, step=1))"
      ]
     },
     "execution_count": 7,
     "metadata": {},
     "output_type": "execute_result"
    }
   ],
   "source": [
    "train.shape, train.dtypes, train.columns, train.index"
   ]
  },
  {
   "cell_type": "code",
   "execution_count": 8,
   "metadata": {
    "execution": {
     "iopub.execute_input": "2022-05-16T21:08:45.421699Z",
     "iopub.status.busy": "2022-05-16T21:08:45.421055Z",
     "iopub.status.idle": "2022-05-16T21:08:45.435671Z",
     "shell.execute_reply": "2022-05-16T21:08:45.435002Z",
     "shell.execute_reply.started": "2022-05-16T21:08:45.421663Z"
    }
   },
   "outputs": [
    {
     "data": {
      "text/plain": [
       "((28000, 784),\n",
       " pixel0      int64\n",
       " pixel1      int64\n",
       " pixel2      int64\n",
       " pixel3      int64\n",
       " pixel4      int64\n",
       "             ...  \n",
       " pixel779    int64\n",
       " pixel780    int64\n",
       " pixel781    int64\n",
       " pixel782    int64\n",
       " pixel783    int64\n",
       " Length: 784, dtype: object,\n",
       " Index(['pixel0', 'pixel1', 'pixel2', 'pixel3', 'pixel4', 'pixel5', 'pixel6',\n",
       "        'pixel7', 'pixel8', 'pixel9',\n",
       "        ...\n",
       "        'pixel774', 'pixel775', 'pixel776', 'pixel777', 'pixel778', 'pixel779',\n",
       "        'pixel780', 'pixel781', 'pixel782', 'pixel783'],\n",
       "       dtype='object', length=784),\n",
       " RangeIndex(start=0, stop=28000, step=1))"
      ]
     },
     "execution_count": 8,
     "metadata": {},
     "output_type": "execute_result"
    }
   ],
   "source": [
    "test.shape, test.dtypes, test.columns, test.index"
   ]
  },
  {
   "cell_type": "code",
   "execution_count": 9,
   "metadata": {
    "execution": {
     "iopub.execute_input": "2022-05-16T21:08:53.028869Z",
     "iopub.status.busy": "2022-05-16T21:08:53.027829Z",
     "iopub.status.idle": "2022-05-16T21:08:53.484422Z",
     "shell.execute_reply": "2022-05-16T21:08:53.483547Z",
     "shell.execute_reply.started": "2022-05-16T21:08:53.028816Z"
    }
   },
   "outputs": [],
   "source": [
    "ohe = OneHotEncoder(sparse = False)\n",
    "y_df = train.pop('label')\n",
    "#X_df = train.drop('label',axis =1)\n",
    "X_train_df,X_ev_df,y_tr,y_e = train_test_split(train,y_df,train_size = 0.9, random_state =0)"
   ]
  },
  {
   "cell_type": "code",
   "execution_count": 10,
   "metadata": {
    "execution": {
     "iopub.execute_input": "2022-05-16T21:08:53.486341Z",
     "iopub.status.busy": "2022-05-16T21:08:53.485920Z",
     "iopub.status.idle": "2022-05-16T21:08:53.492261Z",
     "shell.execute_reply": "2022-05-16T21:08:53.491315Z",
     "shell.execute_reply.started": "2022-05-16T21:08:53.486299Z"
    }
   },
   "outputs": [
    {
     "data": {
      "text/plain": [
       "(42000, 784)"
      ]
     },
     "execution_count": 10,
     "metadata": {},
     "output_type": "execute_result"
    }
   ],
   "source": [
    "train.shape"
   ]
  },
  {
   "cell_type": "code",
   "execution_count": 11,
   "metadata": {
    "execution": {
     "iopub.execute_input": "2022-05-16T21:08:53.506163Z",
     "iopub.status.busy": "2022-05-16T21:08:53.505750Z",
     "iopub.status.idle": "2022-05-16T21:08:53.523799Z",
     "shell.execute_reply": "2022-05-16T21:08:53.522887Z",
     "shell.execute_reply.started": "2022-05-16T21:08:53.506114Z"
    }
   },
   "outputs": [
    {
     "name": "stdout",
     "output_type": "stream",
     "text": [
      "(37800,) <class 'pandas.core.series.Series'> (4200,) <class 'pandas.core.series.Series'>\n",
      "(37800, 10) <class 'numpy.ndarray'> (4200, 10) <class 'numpy.ndarray'>\n"
     ]
    }
   ],
   "source": [
    "print(y_tr.shape,type(y_tr),y_e.shape,type(y_e))\n",
    "y_train = keras.utils.to_categorical(y_tr,num_classes = 10)\n",
    "y_ev    = keras.utils.to_categorical(y_e ,num_classes = 10)\n",
    "print(y_train.shape,type(y_train),y_ev.shape,type(y_ev))"
   ]
  },
  {
   "cell_type": "code",
   "execution_count": 12,
   "metadata": {
    "execution": {
     "iopub.execute_input": "2022-05-16T21:08:53.526355Z",
     "iopub.status.busy": "2022-05-16T21:08:53.525363Z",
     "iopub.status.idle": "2022-05-16T21:08:53.660296Z",
     "shell.execute_reply": "2022-05-16T21:08:53.659310Z",
     "shell.execute_reply.started": "2022-05-16T21:08:53.526307Z"
    }
   },
   "outputs": [
    {
     "name": "stdout",
     "output_type": "stream",
     "text": [
      "(37800, 784) <class 'pandas.core.frame.DataFrame'> (4200, 784) <class 'pandas.core.frame.DataFrame'>\n",
      "(37800, 784) <class 'numpy.ndarray'> (4200, 784) <class 'numpy.ndarray'>\n"
     ]
    }
   ],
   "source": [
    "print(X_train_df.shape,type(X_train_df),X_ev_df.shape,type(X_ev_df))\n",
    "X_train = np.array(X_train_df)\n",
    "X_ev    = np.array(X_ev_df)\n",
    "print(X_train.shape,type(X_train),X_ev.shape,type(X_ev))"
   ]
  },
  {
   "cell_type": "code",
   "execution_count": 13,
   "metadata": {
    "execution": {
     "iopub.execute_input": "2022-05-16T21:08:53.663593Z",
     "iopub.status.busy": "2022-05-16T21:08:53.663373Z",
     "iopub.status.idle": "2022-05-16T21:08:53.667460Z",
     "shell.execute_reply": "2022-05-16T21:08:53.666510Z",
     "shell.execute_reply.started": "2022-05-16T21:08:53.663566Z"
    }
   },
   "outputs": [],
   "source": [
    "from sklearn.preprocessing import StandardScaler"
   ]
  },
  {
   "cell_type": "code",
   "execution_count": 14,
   "metadata": {
    "execution": {
     "iopub.execute_input": "2022-05-16T21:08:53.669305Z",
     "iopub.status.busy": "2022-05-16T21:08:53.669095Z",
     "iopub.status.idle": "2022-05-16T21:08:54.061632Z",
     "shell.execute_reply": "2022-05-16T21:08:54.061018Z",
     "shell.execute_reply.started": "2022-05-16T21:08:53.669278Z"
    }
   },
   "outputs": [
    {
     "data": {
      "text/plain": [
       "StandardScaler()"
      ]
     },
     "execution_count": 14,
     "metadata": {},
     "output_type": "execute_result"
    }
   ],
   "source": [
    "# Scaling\n",
    "sc = StandardScaler()\n",
    "sc.fit(X_train)"
   ]
  },
  {
   "cell_type": "code",
   "execution_count": 15,
   "metadata": {
    "execution": {
     "iopub.execute_input": "2022-05-16T21:08:54.063216Z",
     "iopub.status.busy": "2022-05-16T21:08:54.062572Z",
     "iopub.status.idle": "2022-05-16T21:08:54.069679Z",
     "shell.execute_reply": "2022-05-16T21:08:54.068737Z",
     "shell.execute_reply.started": "2022-05-16T21:08:54.063184Z"
    }
   },
   "outputs": [
    {
     "data": {
      "text/plain": [
       "(37800, 784)"
      ]
     },
     "execution_count": 15,
     "metadata": {},
     "output_type": "execute_result"
    }
   ],
   "source": [
    "X_train.shape"
   ]
  },
  {
   "cell_type": "code",
   "execution_count": 16,
   "metadata": {
    "execution": {
     "iopub.execute_input": "2022-05-16T21:08:54.071163Z",
     "iopub.status.busy": "2022-05-16T21:08:54.070930Z",
     "iopub.status.idle": "2022-05-16T21:08:54.342270Z",
     "shell.execute_reply": "2022-05-16T21:08:54.341587Z",
     "shell.execute_reply.started": "2022-05-16T21:08:54.071136Z"
    }
   },
   "outputs": [],
   "source": [
    "# Reshape to 28*28, simple standardization\n",
    "X_train = np.array(X_train).reshape(-1,28,28,1).astype('float32')\n",
    "X_ev    = np.array(X_ev)   .reshape(-1,28,28,1).astype('float32')\n",
    "test    = np.array(test)   .reshape(-1,28,28,1).astype('float32')"
   ]
  },
  {
   "cell_type": "code",
   "execution_count": 17,
   "metadata": {
    "execution": {
     "iopub.execute_input": "2022-05-16T21:08:54.344100Z",
     "iopub.status.busy": "2022-05-16T21:08:54.343601Z",
     "iopub.status.idle": "2022-05-16T21:08:54.347505Z",
     "shell.execute_reply": "2022-05-16T21:08:54.346924Z",
     "shell.execute_reply.started": "2022-05-16T21:08:54.344058Z"
    }
   },
   "outputs": [],
   "source": [
    "# Alternative way for scaling\n",
    "#X_train = X_train /255\n",
    "#X_ev    = X_ev    /255\n",
    "#test    = test    /255 "
   ]
  },
  {
   "cell_type": "code",
   "execution_count": 18,
   "metadata": {
    "execution": {
     "iopub.execute_input": "2022-05-16T21:08:54.348958Z",
     "iopub.status.busy": "2022-05-16T21:08:54.348718Z",
     "iopub.status.idle": "2022-05-16T21:08:54.540408Z",
     "shell.execute_reply": "2022-05-16T21:08:54.539563Z",
     "shell.execute_reply.started": "2022-05-16T21:08:54.348928Z"
    }
   },
   "outputs": [
    {
     "name": "stdout",
     "output_type": "stream",
     "text": [
      "33.414413 78.683174\n"
     ]
    }
   ],
   "source": [
    "X_train_mean  = np.mean(X_train)\n",
    "X_train_std   = np.std (X_train)\n",
    "X_train = (X_train - X_train_mean)/X_train_std\n",
    "X_ev    = (X_ev    - X_train_mean)/X_train_std\n",
    "test    = (test    - X_train_mean)/X_train_std\n",
    "print(X_train_mean,X_train_std)"
   ]
  },
  {
   "cell_type": "code",
   "execution_count": 19,
   "metadata": {
    "execution": {
     "iopub.execute_input": "2022-05-16T21:08:54.541792Z",
     "iopub.status.busy": "2022-05-16T21:08:54.541551Z",
     "iopub.status.idle": "2022-05-16T21:08:54.547878Z",
     "shell.execute_reply": "2022-05-16T21:08:54.546829Z",
     "shell.execute_reply.started": "2022-05-16T21:08:54.541762Z"
    }
   },
   "outputs": [],
   "source": [
    "early_stopping = EarlyStopping(min_delta =0.0005, patience =4,restore_best_weights =True)"
   ]
  },
  {
   "cell_type": "code",
   "execution_count": 20,
   "metadata": {
    "execution": {
     "iopub.execute_input": "2022-05-16T21:08:54.562554Z",
     "iopub.status.busy": "2022-05-16T21:08:54.562021Z",
     "iopub.status.idle": "2022-05-16T22:10:44.858363Z",
     "shell.execute_reply": "2022-05-16T22:10:44.857124Z",
     "shell.execute_reply.started": "2022-05-16T21:08:54.562476Z"
    }
   },
   "outputs": [
    {
     "name": "stdout",
     "output_type": "stream",
     "text": [
      "Epoch 1/50\n",
      "1182/1182 [==============================] - 339s 285ms/step - loss: 0.1666 - accuracy: 0.9475 - val_loss: 0.0469 - val_accuracy: 0.9833\n",
      "Epoch 2/50\n",
      "1182/1182 [==============================] - 337s 285ms/step - loss: 0.0644 - accuracy: 0.9799 - val_loss: 0.0418 - val_accuracy: 0.9860\n",
      "Epoch 3/50\n",
      "1182/1182 [==============================] - 340s 288ms/step - loss: 0.0578 - accuracy: 0.9819 - val_loss: 0.0316 - val_accuracy: 0.9898\n",
      "Epoch 4/50\n",
      "1182/1182 [==============================] - 331s 280ms/step - loss: 0.0472 - accuracy: 0.9852 - val_loss: 0.0315 - val_accuracy: 0.9902\n",
      "Epoch 5/50\n",
      "1182/1182 [==============================] - 335s 283ms/step - loss: 0.0402 - accuracy: 0.9868 - val_loss: 0.0329 - val_accuracy: 0.9898\n",
      "Epoch 6/50\n",
      "1182/1182 [==============================] - 333s 281ms/step - loss: 0.0393 - accuracy: 0.9879 - val_loss: 0.0344 - val_accuracy: 0.9926\n",
      "Epoch 7/50\n",
      "1182/1182 [==============================] - 331s 280ms/step - loss: 0.0321 - accuracy: 0.9899 - val_loss: 0.0308 - val_accuracy: 0.9895\n",
      "Epoch 8/50\n",
      "1182/1182 [==============================] - 331s 280ms/step - loss: 0.0314 - accuracy: 0.9900 - val_loss: 0.0230 - val_accuracy: 0.9929\n",
      "Epoch 9/50\n",
      "1182/1182 [==============================] - 331s 280ms/step - loss: 0.0294 - accuracy: 0.9902 - val_loss: 0.0200 - val_accuracy: 0.9933\n",
      "Epoch 10/50\n",
      "1182/1182 [==============================] - 332s 281ms/step - loss: 0.0252 - accuracy: 0.9920 - val_loss: 0.0249 - val_accuracy: 0.9926\n",
      "Epoch 11/50\n",
      "1182/1182 [==============================] - 349s 295ms/step - loss: 0.0228 - accuracy: 0.9920 - val_loss: 0.0173 - val_accuracy: 0.9929\n",
      "Epoch 12/50\n",
      "1182/1182 [==============================] - 348s 295ms/step - loss: 0.0230 - accuracy: 0.9932 - val_loss: 0.0233 - val_accuracy: 0.9938\n",
      "Epoch 13/50\n",
      "1182/1182 [==============================] - 339s 286ms/step - loss: 0.0210 - accuracy: 0.9932 - val_loss: 0.0215 - val_accuracy: 0.9924\n",
      "Epoch 14/50\n",
      "1182/1182 [==============================] - 338s 286ms/step - loss: 0.0196 - accuracy: 0.9934 - val_loss: 0.0205 - val_accuracy: 0.9940\n",
      "Epoch 15/50\n",
      "1182/1182 [==============================] - 340s 287ms/step - loss: 0.0159 - accuracy: 0.9949 - val_loss: 0.0198 - val_accuracy: 0.9938\n"
     ]
    }
   ],
   "source": [
    "model = keras.Sequential( [#pretrained_base,\n",
    "                            layers.Conv2D(filters=32, kernel_size=3,input_shape=(28,28,1), activation ='relu'),\n",
    "                            layers.BatchNormalization(),\n",
    "                            #layers.Dropout(rate = 0.3),\n",
    "                            #layers.Conv2D(filters=32, kernel_size=3,activation ='relu'),                       \n",
    "                            #layers.BatchNormalization(),\n",
    "                            #layers.Dropout(rate = 0.3),\n",
    "    \n",
    "                            layers.Conv2D(filters=64, kernel_size=3,activation ='relu'),                       \n",
    "                            layers.BatchNormalization(),                                                   \n",
    "                            layers.Dropout(rate = 0.3),    \n",
    "                            layers.Conv2D(filters=64, kernel_size=3,activation ='relu'),                       \n",
    "                            layers.BatchNormalization(),\n",
    "                            #layers.Dropout(rate = 0.3),\n",
    "                            layers.Conv2D(filters=64, kernel_size=3,activation ='relu'),                       \n",
    "                            layers.BatchNormalization(),\n",
    "                            layers.MaxPooling2D(pool_size = 2),                                                    \n",
    "                            layers.Dropout(rate = 0.3),\n",
    "    \n",
    "                            layers.Conv2D(filters=128, kernel_size=3,activation ='relu'),                       \n",
    "                            layers.BatchNormalization(),\n",
    "                            layers.MaxPooling2D(pool_size = 2),                                                    \n",
    "                            layers.Dropout(rate = 0.3),\n",
    "                            \n",
    "                            layers.Flatten(),   \n",
    "                            layers.Dense(units =256, activation = 'relu'),\n",
    "                            layers.BatchNormalization(),\n",
    "                            layers.Dropout(rate = 0.3),\n",
    "                                                 \n",
    "    \n",
    "                            #layers.Flatten(),                            \n",
    "                            layers.Dense(units =10 , activation = 'softmax'),\n",
    "                            ])\n",
    "model.compile(optimizer = \"adam\",loss = keras.losses.CategoricalCrossentropy(),metrics = [\"accuracy\"])\n",
    "model_fit = model.fit(X_train,y_train, epochs =50,\n",
    "                      callbacks =[early_stopping],\n",
    "                      validation_data = (X_ev,y_ev))\n",
    "#y_pred = model.predict(X_ev)\n",
    "#accuracy_score(y_ev,y_pred)"
   ]
  },
  {
   "cell_type": "code",
   "execution_count": 21,
   "metadata": {
    "execution": {
     "iopub.execute_input": "2022-05-16T22:10:44.860805Z",
     "iopub.status.busy": "2022-05-16T22:10:44.860534Z",
     "iopub.status.idle": "2022-05-16T22:11:22.732338Z",
     "shell.execute_reply": "2022-05-16T22:11:22.731434Z",
     "shell.execute_reply.started": "2022-05-16T22:10:44.860775Z"
    }
   },
   "outputs": [
    {
     "name": "stdout",
     "output_type": "stream",
     "text": [
      "132/132 [==============================] - 10s 77ms/step\n",
      "0.9928571428571429\n",
      "(4200,) <class 'numpy.ndarray'>\n",
      "(4200,) <class 'numpy.ndarray'>\n"
     ]
    }
   ],
   "source": [
    "y_pred = model.predict(X_ev)\n",
    "y_pred_one_d = np.argmax(y_pred, axis =1)\n",
    "y_ev_one_d   = np.argmax(y_ev  , axis =1)\n",
    "print(accuracy_score(np.array(y_e),y_pred_one_d))\n",
    "print(np.array(y_e).shape,type(np.array(y_e)))\n",
    "print(y_pred_one_d.shape ,type(y_pred_one_d))"
   ]
  },
  {
   "cell_type": "code",
   "execution_count": 22,
   "metadata": {
    "execution": {
     "iopub.execute_input": "2022-05-16T22:11:22.734415Z",
     "iopub.status.busy": "2022-05-16T22:11:22.733772Z",
     "iopub.status.idle": "2022-05-16T22:11:51.229556Z",
     "shell.execute_reply": "2022-05-16T22:11:51.228858Z",
     "shell.execute_reply.started": "2022-05-16T22:11:22.734365Z"
    }
   },
   "outputs": [
    {
     "name": "stdout",
     "output_type": "stream",
     "text": [
      "875/875 [==============================] - 67s 77ms/step\n"
     ]
    }
   ],
   "source": [
    "y_test       = model.predict(test)\n",
    "y_test_one_d = np   .argmax(y_test, axis =1)"
   ]
  },
  {
   "cell_type": "code",
   "execution_count": 23,
   "metadata": {
    "execution": {
     "iopub.execute_input": "2022-05-16T22:11:51.231677Z",
     "iopub.status.busy": "2022-05-16T22:11:51.230815Z",
     "iopub.status.idle": "2022-05-16T22:11:51.238933Z",
     "shell.execute_reply": "2022-05-16T22:11:51.238096Z",
     "shell.execute_reply.started": "2022-05-16T22:11:51.231643Z"
    }
   },
   "outputs": [
    {
     "data": {
      "text/plain": [
       "(28000, 28000, 280000)"
      ]
     },
     "execution_count": 23,
     "metadata": {},
     "output_type": "execute_result"
    }
   ],
   "source": [
    "test_in.shape[0],y_test_one_d.size,y_test.size"
   ]
  },
  {
   "cell_type": "code",
   "execution_count": 24,
   "metadata": {
    "execution": {
     "iopub.execute_input": "2022-05-16T22:11:51.240678Z",
     "iopub.status.busy": "2022-05-16T22:11:51.240285Z",
     "iopub.status.idle": "2022-05-16T22:11:51.322121Z",
     "shell.execute_reply": "2022-05-16T22:11:51.321189Z",
     "shell.execute_reply.started": "2022-05-16T22:11:51.240647Z"
    }
   },
   "outputs": [],
   "source": [
    "res = pd.DataFrame({'ImageId':[i for i in range(1,test_in.shape[0]+1)],'Label':y_test_one_d} )\n",
    "res.to_csv('submission_1.csv', index = False)"
   ]
  },
  {
   "cell_type": "code",
   "execution_count": 25,
   "metadata": {
    "execution": {
     "iopub.execute_input": "2022-05-16T22:57:25.517225Z",
     "iopub.status.busy": "2022-05-16T22:57:25.516586Z",
     "iopub.status.idle": "2022-05-16T22:57:26.004838Z",
     "shell.execute_reply": "2022-05-16T22:57:26.003953Z",
     "shell.execute_reply.started": "2022-05-16T22:57:25.517180Z"
    }
   },
   "outputs": [
    {
     "data": {
      "text/plain": [
       "(<AxesSubplot:>, <AxesSubplot:>)"
      ]
     },
     "execution_count": 25,
     "metadata": {},
     "output_type": "execute_result"
    },
    {
     "data": {
      "image/png": "[encoded data removed]",
      "text/plain": [
       "<Figure size 432x288 with 1 Axes>"
      ]
     },
     "metadata": {
      "needs_background": "light"
     },
     "output_type": "display_data"
    },
    {
     "data": {
      "image/png": "[encoded data removed]",
      "text/plain": [
       "<Figure size 432x288 with 1 Axes>"
      ]
     },
     "metadata": {
      "needs_background": "light"
     },
     "output_type": "display_data"
    }
   ],
   "source": [
    "history_df = pd.DataFrame(model_fit.history)\n",
    "accuracies = history_df[['accuracy','val_accuracy']]\n",
    "losses     = history_df[['loss'    ,'val_loss'    ]]\n",
    "accuracies[3:].plot(),losses[3:].plot() "
   ]
  },
  {
   "cell_type": "code",
   "execution_count": 26,
   "metadata": {
    "execution": {
     "iopub.execute_input": "2022-05-16T22:11:51.959825Z",
     "iopub.status.busy": "2022-05-16T22:11:51.959395Z",
     "iopub.status.idle": "2022-05-16T22:11:51.966829Z",
     "shell.execute_reply": "2022-05-16T22:11:51.965780Z",
     "shell.execute_reply.started": "2022-05-16T22:11:51.959791Z"
    }
   },
   "outputs": [
    {
     "data": {
      "text/plain": [
       "Index(['loss', 'accuracy', 'val_loss', 'val_accuracy'], dtype='object')"
      ]
     },
     "execution_count": 26,
     "metadata": {},
     "output_type": "execute_result"
    }
   ],
   "source": [
    "pd.DataFrame(model_fit.history).columns"
   ]
  },
  {
   "cell_type": "code",
   "execution_count": 27,
   "metadata": {
    "execution": {
     "iopub.execute_input": "2022-05-16T22:11:51.968579Z",
     "iopub.status.busy": "2022-05-16T22:11:51.968272Z",
     "iopub.status.idle": "2022-05-16T22:11:51.992357Z",
     "shell.execute_reply": "2022-05-16T22:11:51.991220Z",
     "shell.execute_reply.started": "2022-05-16T22:11:51.968551Z"
    }
   },
   "outputs": [
    {
     "name": "stdout",
     "output_type": "stream",
     "text": [
      "Model: \"sequential\"\n",
      "_________________________________________________________________\n",
      " Layer (type)                Output Shape              Param #   \n",
      "=================================================================\n",
      " conv2d (Conv2D)             (None, 26, 26, 32)        320       \n",
      "                                                                 \n",
      " batch_normalization (BatchN  (None, 26, 26, 32)       128       \n",
      " ormalization)                                                   \n",
      "                                                                 \n",
      " conv2d_1 (Conv2D)           (None, 24, 24, 64)        18496     \n",
      "                                                                 \n",
      " batch_normalization_1 (Batc  (None, 24, 24, 64)       256       \n",
      " hNormalization)                                                 \n",
      "                                                                 \n",
      " dropout (Dropout)           (None, 24, 24, 64)        0         \n",
      "                                                                 \n",
      " conv2d_2 (Conv2D)           (None, 22, 22, 64)        36928     \n",
      "                                                                 \n",
      " batch_normalization_2 (Batc  (None, 22, 22, 64)       256       \n",
      " hNormalization)                                                 \n",
      "                                                                 \n",
      " conv2d_3 (Conv2D)           (None, 20, 20, 64)        36928     \n",
      "                                                                 \n",
      " batch_normalization_3 (Batc  (None, 20, 20, 64)       256       \n",
      " hNormalization)                                                 \n",
      "                                                                 \n",
      " max_pooling2d (MaxPooling2D  (None, 10, 10, 64)       0         \n",
      " )                                                               \n",
      "                                                                 \n",
      " dropout_1 (Dropout)         (None, 10, 10, 64)        0         \n",
      "                                                                 \n",
      " conv2d_4 (Conv2D)           (None, 8, 8, 128)         73856     \n",
      "                                                                 \n",
      " batch_normalization_4 (Batc  (None, 8, 8, 128)        512       \n",
      " hNormalization)                                                 \n",
      "                                                                 \n",
      " max_pooling2d_1 (MaxPooling  (None, 4, 4, 128)        0         \n",
      " 2D)                                                             \n",
      "                                                                 \n",
      " dropout_2 (Dropout)         (None, 4, 4, 128)         0         \n",
      "                                                                 \n",
      " flatten (Flatten)           (None, 2048)              0         \n",
      "                                                                 \n",
      " dense (Dense)               (None, 256)               524544    \n",
      "                                                                 \n",
      " batch_normalization_5 (Batc  (None, 256)              1024      \n",
      " hNormalization)                                                 \n",
      "                                                                 \n",
      " dropout_3 (Dropout)         (None, 256)               0         \n",
      "                                                                 \n",
      " dense_1 (Dense)             (None, 10)                2570      \n",
      "                                                                 \n",
      "=================================================================\n",
      "Total params: 696,074\n",
      "Trainable params: 694,858\n",
      "Non-trainable params: 1,216\n",
      "_________________________________________________________________\n"
     ]
    }
   ],
   "source": [
    "model.summary()"
   ]
  }
 ],
 "metadata": {
  "kernelspec": {
   "display_name": "Python 3",
   "language": "python",
   "name": "python3"
  },
  "language_info": {
   "codemirror_mode": {
    "name": "ipython",
    "version": 3
   },
   "file_extension": ".py",
   "mimetype": "text/x-python",
   "name": "python",
   "nbconvert_exporter": "python",
   "pygments_lexer": "ipython3",
   "version": "3.8.5"
  }
 },
 "nbformat": 4,
 "nbformat_minor": 4
}
